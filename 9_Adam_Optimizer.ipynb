{
  "nbformat": 4,
  "nbformat_minor": 0,
  "metadata": {
    "colab": {
      "provenance": []
    },
    "kernelspec": {
      "name": "python3",
      "display_name": "Python 3"
    },
    "language_info": {
      "name": "python"
    }
  },
  "cells": [
    {
      "cell_type": "markdown",
      "source": [
        "**Adam Optimizer**"
      ],
      "metadata": {
        "id": "01-kT3Mvlpcg"
      }
    },
    {
      "cell_type": "markdown",
      "source": [
        "* Adam stands fpr Adaptive Moment Estimation.\n",
        "\n",
        "\n",
        "* Its in adaptive learning rate oiptimization algorithm"
      ],
      "metadata": {
        "id": "gbU9dVMhlodf"
      }
    },
    {
      "cell_type": "markdown",
      "source": [
        "**Why Adam is so popular?**\n",
        "* Adaptive Learning Rates\n",
        "* Computational Efficiency\n",
        "* Bias Correction\n",
        "* Great Default"
      ],
      "metadata": {
        "id": "U_vigzyUljQU"
      }
    },
    {
      "cell_type": "code",
      "source": [],
      "metadata": {
        "id": "LRZ0rnLWmTcu"
      },
      "execution_count": null,
      "outputs": []
    },
    {
      "cell_type": "markdown",
      "source": [
        "**Pros**\n",
        "* Adaptive of Learning Rates\n",
        "* Convergence speed.\n",
        "* Works well for Sparse Gradients\n",
        "\n",
        "**Cons**\n",
        "\n",
        "* Overfitting\n",
        "* Hyperparameters Tuning\n",
        "* Less Theroetical Foundation.\n",
        "\n",
        "**Two Important Components**\n",
        "* Momentum\n",
        "* Scaling the learning Rate."
      ],
      "metadata": {
        "id": "jDW9RmWemmUz"
      }
    },
    {
      "cell_type": "code",
      "source": [
        "# Implementation with code.\n",
        "import tensorflow as tf\n",
        "from tensorflow.keras import layers, models\n",
        "from tensorflow.keras.datasets import mnist\n",
        "from tensorflow.keras.utils import to_categorical"
      ],
      "metadata": {
        "id": "-_1mt0zfm6Wb"
      },
      "execution_count": 42,
      "outputs": []
    },
    {
      "cell_type": "code",
      "source": [
        "# Load MNIST dataset\n",
        "(train_images, train_labels), (test_images, test_labels) = mnist.load_data()"
      ],
      "metadata": {
        "id": "5DLr4C3Cntov"
      },
      "execution_count": 43,
      "outputs": []
    },
    {
      "cell_type": "code",
      "source": [
        "# Normalize the images to have value between 0 and 1\n",
        "train_images, test_images = train_images.astype('float32') / 255.0, test_images.astype('float32') / 255.0"
      ],
      "metadata": {
        "id": "XinfPr6nn4UH"
      },
      "execution_count": 44,
      "outputs": []
    },
    {
      "cell_type": "code",
      "source": [
        "# Reshae the images\n",
        "train_images = train_images.reshape((train_images.shape[0], 28 * 28))\n",
        "test_images = test_images.reshape((test_images.shape[0], 28 * 28))"
      ],
      "metadata": {
        "id": "kLfaVbNAn_T9"
      },
      "execution_count": 45,
      "outputs": []
    },
    {
      "cell_type": "code",
      "source": [
        "# Check the shape of train_labels before to_categorical\n",
        "print(\"Original shape of train_labels:\", train_labels.shape)"
      ],
      "metadata": {
        "colab": {
          "base_uri": "https://localhost:8080/"
        },
        "id": "gDvjkZ2HqQkP",
        "outputId": "aea05afd-09de-4089-d7b1-b67693e28c3e"
      },
      "execution_count": 46,
      "outputs": [
        {
          "output_type": "stream",
          "name": "stdout",
          "text": [
            "Original shape of train_labels: (60000,)\n"
          ]
        }
      ]
    },
    {
      "cell_type": "code",
      "source": [
        "# convert labels to one hot encoding\n",
        "train_labels = to_categorical(train_labels)\n",
        "test_labels = to_categorical(test_labels)"
      ],
      "metadata": {
        "id": "O2xr7yLpoLNZ"
      },
      "execution_count": 47,
      "outputs": []
    },
    {
      "cell_type": "code",
      "source": [
        "# Check the shape of train_labels after to_categorical\n",
        "print(\"Shape of train_labels after to_categorical:\", train_labels.shape)\n"
      ],
      "metadata": {
        "colab": {
          "base_uri": "https://localhost:8080/"
        },
        "id": "dNR6BbxwqUhW",
        "outputId": "8c44fae0-1d44-4a9c-de18-50aa194b6569"
      },
      "execution_count": 48,
      "outputs": [
        {
          "output_type": "stream",
          "name": "stdout",
          "text": [
            "Shape of train_labels after to_categorical: (60000, 10)\n"
          ]
        }
      ]
    },
    {
      "cell_type": "code",
      "source": [
        "# Create the model\n",
        "model = models.Sequential()"
      ],
      "metadata": {
        "id": "-1BUdUqqoQy6"
      },
      "execution_count": 49,
      "outputs": []
    },
    {
      "cell_type": "code",
      "source": [
        "# Input layer\n",
        "model.add(layers.Dense(128, activation='relu', input_shape=(28 * 28,)))\n",
        "# Output layer\n",
        "model.add(layers.Dense(10, activation='softmax'))"
      ],
      "metadata": {
        "colab": {
          "base_uri": "https://localhost:8080/"
        },
        "id": "fKy1lP0toVSD",
        "outputId": "4dfbdd8b-1b22-4c0b-f116-de28a295b248"
      },
      "execution_count": 50,
      "outputs": [
        {
          "output_type": "stream",
          "name": "stderr",
          "text": [
            "/usr/local/lib/python3.10/dist-packages/keras/src/layers/core/dense.py:87: UserWarning: Do not pass an `input_shape`/`input_dim` argument to a layer. When using Sequential models, prefer using an `Input(shape)` object as the first layer in the model instead.\n",
            "  super().__init__(activity_regularizer=activity_regularizer, **kwargs)\n"
          ]
        }
      ]
    },
    {
      "cell_type": "code",
      "source": [
        "# compile the model\n",
        "model.compile(optimizer='adam', loss='categorical_crossentropy', metrics=['accuracy'])"
      ],
      "metadata": {
        "id": "vNFMT-osokI7"
      },
      "execution_count": 51,
      "outputs": []
    },
    {
      "cell_type": "code",
      "source": [
        "# fit the model\n",
        "# Train the model\n",
        "model.fit(train_images, train_labels, epochs=5, batch_size=64, validation_split=0.2)\n"
      ],
      "metadata": {
        "colab": {
          "base_uri": "https://localhost:8080/"
        },
        "id": "tFAFfQu9on8T",
        "outputId": "9e3f09df-ca3b-468c-a93d-147c5f74e279"
      },
      "execution_count": 52,
      "outputs": [
        {
          "output_type": "stream",
          "name": "stdout",
          "text": [
            "Epoch 1/5\n",
            "\u001b[1m750/750\u001b[0m \u001b[32m━━━━━━━━━━━━━━━━━━━━\u001b[0m\u001b[37m\u001b[0m \u001b[1m5s\u001b[0m 6ms/step - accuracy: 0.8410 - loss: 0.5603 - val_accuracy: 0.9485 - val_loss: 0.1794\n",
            "Epoch 2/5\n",
            "\u001b[1m750/750\u001b[0m \u001b[32m━━━━━━━━━━━━━━━━━━━━\u001b[0m\u001b[37m\u001b[0m \u001b[1m3s\u001b[0m 3ms/step - accuracy: 0.9537 - loss: 0.1602 - val_accuracy: 0.9601 - val_loss: 0.1320\n",
            "Epoch 3/5\n",
            "\u001b[1m750/750\u001b[0m \u001b[32m━━━━━━━━━━━━━━━━━━━━\u001b[0m\u001b[37m\u001b[0m \u001b[1m2s\u001b[0m 3ms/step - accuracy: 0.9683 - loss: 0.1080 - val_accuracy: 0.9669 - val_loss: 0.1105\n",
            "Epoch 4/5\n",
            "\u001b[1m750/750\u001b[0m \u001b[32m━━━━━━━━━━━━━━━━━━━━\u001b[0m\u001b[37m\u001b[0m \u001b[1m2s\u001b[0m 3ms/step - accuracy: 0.9759 - loss: 0.0805 - val_accuracy: 0.9702 - val_loss: 0.0957\n",
            "Epoch 5/5\n",
            "\u001b[1m750/750\u001b[0m \u001b[32m━━━━━━━━━━━━━━━━━━━━\u001b[0m\u001b[37m\u001b[0m \u001b[1m3s\u001b[0m 4ms/step - accuracy: 0.9829 - loss: 0.0593 - val_accuracy: 0.9724 - val_loss: 0.0908\n"
          ]
        },
        {
          "output_type": "execute_result",
          "data": {
            "text/plain": [
              "<keras.src.callbacks.history.History at 0x7cdaccff0ee0>"
            ]
          },
          "metadata": {},
          "execution_count": 52
        }
      ]
    },
    {
      "cell_type": "code",
      "source": [
        "# Evaluate\n",
        "test_loss, test_acc = model.evaluate(test_images, test_labels)\n",
        "print(f'Test accuracy: {test_acc}')\n",
        "print(f'Test loss: {test_loss}')"
      ],
      "metadata": {
        "colab": {
          "base_uri": "https://localhost:8080/"
        },
        "id": "FApMJCsoouYp",
        "outputId": "1e0f4f59-e3e5-4a9a-f63c-bf0a4a3b925f"
      },
      "execution_count": 53,
      "outputs": [
        {
          "output_type": "stream",
          "name": "stdout",
          "text": [
            "\u001b[1m313/313\u001b[0m \u001b[32m━━━━━━━━━━━━━━━━━━━━\u001b[0m\u001b[37m\u001b[0m \u001b[1m0s\u001b[0m 1ms/step - accuracy: 0.9715 - loss: 0.0930\n",
            "Test accuracy: 0.9757999777793884\n",
            "Test loss: 0.08004364371299744\n"
          ]
        }
      ]
    },
    {
      "cell_type": "code",
      "source": [
        "# Tuning Hyperparameters of Adam in TensorFlow\n",
        "\n",
        "# Manually specifying Adam hyperparameters\n",
        "adam_optimizer = tf.keras.optimizers.Adam(learning_rate=0.001, beta_1=0.9, beta_2=0.999, epsilon=1e-7)\n",
        "\n",
        "# Compile the model with the custom Adam optimizer\n",
        "model.compile(optimizer=adam_optimizer,\n",
        "              loss='categorical_crossentropy',\n",
        "              metrics=['accuracy'])\n"
      ],
      "metadata": {
        "id": "YIXBRYw2qnv3"
      },
      "execution_count": 54,
      "outputs": []
    },
    {
      "cell_type": "code",
      "source": [],
      "metadata": {
        "id": "-Z2HHa3jq0QI"
      },
      "execution_count": null,
      "outputs": []
    }
  ]
}